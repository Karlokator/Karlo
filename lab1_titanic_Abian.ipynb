{
  "nbformat": 4,
  "nbformat_minor": 0,
  "metadata": {
    "colab": {
      "provenance": []
    },
    "kernelspec": {
      "name": "python3",
      "display_name": "Python 3"
    },
    "language_info": {
      "name": "python"
    }
  },
  "cells": [
    {
      "cell_type": "markdown",
      "source": [
        "#upload"
      ],
      "metadata": {
        "id": "2o3-38y9E6Bx"
      }
    },
    {
      "cell_type": "code",
      "source": [
        "from google.colab import files\n",
        "import os\n",
        "import matplotlib.pyplot as plt\n",
        "\n",
        "# Upload the file\n",
        "print(\"Please upload your file:\")\n",
        "uploaded = files.upload()\n",
        "\n",
        "# Display the current working directory\n",
        "print(\"\\nCurrent Working Directory:\", os.getcwd())\n"
      ],
      "metadata": {
        "colab": {
          "base_uri": "https://localhost:8080/",
          "height": 125
        },
        "id": "kqdWlY63E8kB",
        "outputId": "b0b16d3d-0237-4e52-b53c-5cd9dd4bdd51"
      },
      "execution_count": 1,
      "outputs": [
        {
          "output_type": "stream",
          "name": "stdout",
          "text": [
            "Please upload your file:\n"
          ]
        },
        {
          "output_type": "display_data",
          "data": {
            "text/plain": [
              "<IPython.core.display.HTML object>"
            ],
            "text/html": [
              "\n",
              "     <input type=\"file\" id=\"files-db950b41-7239-4a12-83e2-2a43a2cd3fb8\" name=\"files[]\" multiple disabled\n",
              "        style=\"border:none\" />\n",
              "     <output id=\"result-db950b41-7239-4a12-83e2-2a43a2cd3fb8\">\n",
              "      Upload widget is only available when the cell has been executed in the\n",
              "      current browser session. Please rerun this cell to enable.\n",
              "      </output>\n",
              "      <script>// Copyright 2017 Google LLC\n",
              "//\n",
              "// Licensed under the Apache License, Version 2.0 (the \"License\");\n",
              "// you may not use this file except in compliance with the License.\n",
              "// You may obtain a copy of the License at\n",
              "//\n",
              "//      http://www.apache.org/licenses/LICENSE-2.0\n",
              "//\n",
              "// Unless required by applicable law or agreed to in writing, software\n",
              "// distributed under the License is distributed on an \"AS IS\" BASIS,\n",
              "// WITHOUT WARRANTIES OR CONDITIONS OF ANY KIND, either express or implied.\n",
              "// See the License for the specific language governing permissions and\n",
              "// limitations under the License.\n",
              "\n",
              "/**\n",
              " * @fileoverview Helpers for google.colab Python module.\n",
              " */\n",
              "(function(scope) {\n",
              "function span(text, styleAttributes = {}) {\n",
              "  const element = document.createElement('span');\n",
              "  element.textContent = text;\n",
              "  for (const key of Object.keys(styleAttributes)) {\n",
              "    element.style[key] = styleAttributes[key];\n",
              "  }\n",
              "  return element;\n",
              "}\n",
              "\n",
              "// Max number of bytes which will be uploaded at a time.\n",
              "const MAX_PAYLOAD_SIZE = 100 * 1024;\n",
              "\n",
              "function _uploadFiles(inputId, outputId) {\n",
              "  const steps = uploadFilesStep(inputId, outputId);\n",
              "  const outputElement = document.getElementById(outputId);\n",
              "  // Cache steps on the outputElement to make it available for the next call\n",
              "  // to uploadFilesContinue from Python.\n",
              "  outputElement.steps = steps;\n",
              "\n",
              "  return _uploadFilesContinue(outputId);\n",
              "}\n",
              "\n",
              "// This is roughly an async generator (not supported in the browser yet),\n",
              "// where there are multiple asynchronous steps and the Python side is going\n",
              "// to poll for completion of each step.\n",
              "// This uses a Promise to block the python side on completion of each step,\n",
              "// then passes the result of the previous step as the input to the next step.\n",
              "function _uploadFilesContinue(outputId) {\n",
              "  const outputElement = document.getElementById(outputId);\n",
              "  const steps = outputElement.steps;\n",
              "\n",
              "  const next = steps.next(outputElement.lastPromiseValue);\n",
              "  return Promise.resolve(next.value.promise).then((value) => {\n",
              "    // Cache the last promise value to make it available to the next\n",
              "    // step of the generator.\n",
              "    outputElement.lastPromiseValue = value;\n",
              "    return next.value.response;\n",
              "  });\n",
              "}\n",
              "\n",
              "/**\n",
              " * Generator function which is called between each async step of the upload\n",
              " * process.\n",
              " * @param {string} inputId Element ID of the input file picker element.\n",
              " * @param {string} outputId Element ID of the output display.\n",
              " * @return {!Iterable<!Object>} Iterable of next steps.\n",
              " */\n",
              "function* uploadFilesStep(inputId, outputId) {\n",
              "  const inputElement = document.getElementById(inputId);\n",
              "  inputElement.disabled = false;\n",
              "\n",
              "  const outputElement = document.getElementById(outputId);\n",
              "  outputElement.innerHTML = '';\n",
              "\n",
              "  const pickedPromise = new Promise((resolve) => {\n",
              "    inputElement.addEventListener('change', (e) => {\n",
              "      resolve(e.target.files);\n",
              "    });\n",
              "  });\n",
              "\n",
              "  const cancel = document.createElement('button');\n",
              "  inputElement.parentElement.appendChild(cancel);\n",
              "  cancel.textContent = 'Cancel upload';\n",
              "  const cancelPromise = new Promise((resolve) => {\n",
              "    cancel.onclick = () => {\n",
              "      resolve(null);\n",
              "    };\n",
              "  });\n",
              "\n",
              "  // Wait for the user to pick the files.\n",
              "  const files = yield {\n",
              "    promise: Promise.race([pickedPromise, cancelPromise]),\n",
              "    response: {\n",
              "      action: 'starting',\n",
              "    }\n",
              "  };\n",
              "\n",
              "  cancel.remove();\n",
              "\n",
              "  // Disable the input element since further picks are not allowed.\n",
              "  inputElement.disabled = true;\n",
              "\n",
              "  if (!files) {\n",
              "    return {\n",
              "      response: {\n",
              "        action: 'complete',\n",
              "      }\n",
              "    };\n",
              "  }\n",
              "\n",
              "  for (const file of files) {\n",
              "    const li = document.createElement('li');\n",
              "    li.append(span(file.name, {fontWeight: 'bold'}));\n",
              "    li.append(span(\n",
              "        `(${file.type || 'n/a'}) - ${file.size} bytes, ` +\n",
              "        `last modified: ${\n",
              "            file.lastModifiedDate ? file.lastModifiedDate.toLocaleDateString() :\n",
              "                                    'n/a'} - `));\n",
              "    const percent = span('0% done');\n",
              "    li.appendChild(percent);\n",
              "\n",
              "    outputElement.appendChild(li);\n",
              "\n",
              "    const fileDataPromise = new Promise((resolve) => {\n",
              "      const reader = new FileReader();\n",
              "      reader.onload = (e) => {\n",
              "        resolve(e.target.result);\n",
              "      };\n",
              "      reader.readAsArrayBuffer(file);\n",
              "    });\n",
              "    // Wait for the data to be ready.\n",
              "    let fileData = yield {\n",
              "      promise: fileDataPromise,\n",
              "      response: {\n",
              "        action: 'continue',\n",
              "      }\n",
              "    };\n",
              "\n",
              "    // Use a chunked sending to avoid message size limits. See b/62115660.\n",
              "    let position = 0;\n",
              "    do {\n",
              "      const length = Math.min(fileData.byteLength - position, MAX_PAYLOAD_SIZE);\n",
              "      const chunk = new Uint8Array(fileData, position, length);\n",
              "      position += length;\n",
              "\n",
              "      const base64 = btoa(String.fromCharCode.apply(null, chunk));\n",
              "      yield {\n",
              "        response: {\n",
              "          action: 'append',\n",
              "          file: file.name,\n",
              "          data: base64,\n",
              "        },\n",
              "      };\n",
              "\n",
              "      let percentDone = fileData.byteLength === 0 ?\n",
              "          100 :\n",
              "          Math.round((position / fileData.byteLength) * 100);\n",
              "      percent.textContent = `${percentDone}% done`;\n",
              "\n",
              "    } while (position < fileData.byteLength);\n",
              "  }\n",
              "\n",
              "  // All done.\n",
              "  yield {\n",
              "    response: {\n",
              "      action: 'complete',\n",
              "    }\n",
              "  };\n",
              "}\n",
              "\n",
              "scope.google = scope.google || {};\n",
              "scope.google.colab = scope.google.colab || {};\n",
              "scope.google.colab._files = {\n",
              "  _uploadFiles,\n",
              "  _uploadFilesContinue,\n",
              "};\n",
              "})(self);\n",
              "</script> "
            ]
          },
          "metadata": {}
        },
        {
          "output_type": "stream",
          "name": "stdout",
          "text": [
            "Saving train.csv to train.csv\n",
            "\n",
            "Current Working Directory: /content\n"
          ]
        }
      ]
    },
    {
      "cell_type": "markdown",
      "source": [
        "## Question 1: Determine the blank values in the data"
      ],
      "metadata": {
        "id": "ARiaF8ViFBz3"
      }
    },
    {
      "cell_type": "code",
      "source": [
        "import os\n",
        "import pandas as pd\n",
        "from tabulate import tabulate\n",
        "\n",
        "# Define the file name\n",
        "file_path = \"train.csv\"\n",
        "\n",
        "# Verify if the file exists in the current directory\n",
        "if os.path.exists(file_path):\n",
        "\n",
        "    # Read the CSV file into a DataFrame\n",
        "    data = pd.read_csv(file_path)\n",
        "\n",
        "    # Print the first few rows in a well-formatted table\n",
        "    print(tabulate(data.head(), headers=\"keys\", tablefmt=\"fancy_grid\"))\n"
      ],
      "metadata": {
        "colab": {
          "base_uri": "https://localhost:8080/"
        },
        "id": "hSiXJJagFKYI",
        "outputId": "55427291-9686-41dc-b27e-10e8bbeae2ae"
      },
      "execution_count": 6,
      "outputs": [
        {
          "output_type": "stream",
          "name": "stdout",
          "text": [
            "╒════╤═══════════════╤════════════╤══════════╤═════════════════════════════════════════════════════╤════════╤═══════╤═════════╤═════════╤══════════════════╤═════════╤═════════╤════════════╕\n",
            "│    │   PassengerId │   Survived │   Pclass │ Name                                                │ Sex    │   Age │   SibSp │   Parch │ Ticket           │    Fare │ Cabin   │ Embarked   │\n",
            "╞════╪═══════════════╪════════════╪══════════╪═════════════════════════════════════════════════════╪════════╪═══════╪═════════╪═════════╪══════════════════╪═════════╪═════════╪════════════╡\n",
            "│  0 │             1 │          0 │        3 │ Braund, Mr. Owen Harris                             │ male   │    22 │       1 │       0 │ A/5 21171        │  7.25   │ nan     │ S          │\n",
            "├────┼───────────────┼────────────┼──────────┼─────────────────────────────────────────────────────┼────────┼───────┼─────────┼─────────┼──────────────────┼─────────┼─────────┼────────────┤\n",
            "│  1 │             2 │          1 │        1 │ Cumings, Mrs. John Bradley (Florence Briggs Thayer) │ female │    38 │       1 │       0 │ PC 17599         │ 71.2833 │ C85     │ C          │\n",
            "├────┼───────────────┼────────────┼──────────┼─────────────────────────────────────────────────────┼────────┼───────┼─────────┼─────────┼──────────────────┼─────────┼─────────┼────────────┤\n",
            "│  2 │             3 │          1 │        3 │ Heikkinen, Miss. Laina                              │ female │    26 │       0 │       0 │ STON/O2. 3101282 │  7.925  │ nan     │ S          │\n",
            "├────┼───────────────┼────────────┼──────────┼─────────────────────────────────────────────────────┼────────┼───────┼─────────┼─────────┼──────────────────┼─────────┼─────────┼────────────┤\n",
            "│  3 │             4 │          1 │        1 │ Futrelle, Mrs. Jacques Heath (Lily May Peel)        │ female │    35 │       1 │       0 │ 113803           │ 53.1    │ C123    │ S          │\n",
            "├────┼───────────────┼────────────┼──────────┼─────────────────────────────────────────────────────┼────────┼───────┼─────────┼─────────┼──────────────────┼─────────┼─────────┼────────────┤\n",
            "│  4 │             5 │          0 │        3 │ Allen, Mr. William Henry                            │ male   │    35 │       0 │       0 │ 373450           │  8.05   │ nan     │ S          │\n",
            "╘════╧═══════════════╧════════════╧══════════╧═════════════════════════════════════════════════════╧════════╧═══════╧═════════╧═════════╧══════════════════╧═════════╧═════════╧════════════╛\n"
          ]
        }
      ]
    },
    {
      "cell_type": "markdown",
      "source": [
        "## Question 2: Determine the task for loading of handling the data"
      ],
      "metadata": {
        "id": "c26msKvAFL63"
      }
    },
    {
      "cell_type": "code",
      "source": [
        "from tabulate import tabulate\n",
        "import io\n",
        "\n",
        "# Capture dataset information as a structured string\n",
        "buffer = io.StringIO()\n",
        "df.info(buf=buffer)\n",
        "dataset_info = buffer.getvalue()\n",
        "\n",
        "# Process dataset info into a structured table format\n",
        "dataset_info_table = [line.split(\":\") for line in dataset_info.split(\"\\n\") if \":\" in line]\n",
        "\n",
        "# Display dataset overview in a formatted table\n",
        "print(\"\\n📊 DATASET OVERVIEW:\\n\")\n",
        "print(tabulate(dataset_info_table, tablefmt=\"fancy_grid\") if dataset_info_table else \"No detailed dataset info available.\")\n",
        "\n",
        "# Generate summary statistics\n",
        "summary_stats = df.describe().reset_index()\n",
        "\n",
        "# Identify missing values per column\n",
        "missing_values = df.isnull().sum().reset_index()\n",
        "missing_values.columns = [\"Column\", \"Missing Values\"]\n",
        "missing_values = missing_values[missing_values[\"Missing Values\"] > 0]\n",
        "\n",
        "# Display summary statistics\n",
        "print(\"\\n📈 STATISTICAL SUMMARY:\\n\")\n",
        "print(tabulate(summary_stats, headers=\"keys\", tablefmt=\"fancy_grid\"))\n",
        "\n",
        "# Display missing values, if any\n",
        "if not missing_values.empty:\n",
        "    print(\"\\n🚨 MISSING VALUES PER COLUMN:\\n\")\n",
        "    print(tabulate(missing_values, headers=\"keys\", tablefmt=\"fancy_grid\"))\n"
      ],
      "metadata": {
        "colab": {
          "base_uri": "https://localhost:8080/"
        },
        "id": "X9aJS4WzFOVz",
        "outputId": "589740f5-27a5-4d4a-bac4-f799948b7caf"
      },
      "execution_count": 7,
      "outputs": [
        {
          "output_type": "stream",
          "name": "stdout",
          "text": [
            "\n",
            "📊 DATASET OVERVIEW:\n",
            "\n",
            "╒═════════════════════════════════╤══════════════════════════════════════════════╕\n",
            "│ RangeIndex                      │ 891 entries, 0 to 890                        │\n",
            "├─────────────────────────────────┼──────────────────────────────────────────────┤\n",
            "│ Data columns (total 13 columns) │                                              │\n",
            "├─────────────────────────────────┼──────────────────────────────────────────────┤\n",
            "│ dtypes                          │ category(1), float64(2), int64(5), object(5) │\n",
            "├─────────────────────────────────┼──────────────────────────────────────────────┤\n",
            "│ memory usage                    │ 84.9+ KB                                     │\n",
            "╘═════════════════════════════════╧══════════════════════════════════════════════╛\n",
            "\n",
            "📈 STATISTICAL SUMMARY:\n",
            "\n",
            "╒════╤═════════╤═══════════════╤════════════╤════════════╤══════════╤════════════╤════════════╤══════════╕\n",
            "│    │ index   │   PassengerId │   Survived │     Pclass │      Age │      SibSp │      Parch │     Fare │\n",
            "╞════╪═════════╪═══════════════╪════════════╪════════════╪══════════╪════════════╪════════════╪══════════╡\n",
            "│  0 │ count   │       891     │ 891        │ 891        │ 714      │ 891        │ 891        │ 891      │\n",
            "├────┼─────────┼───────────────┼────────────┼────────────┼──────────┼────────────┼────────────┼──────────┤\n",
            "│  1 │ mean    │       446     │   0.383838 │   2.30864  │  29.6991 │   0.523008 │   0.381594 │  32.2042 │\n",
            "├────┼─────────┼───────────────┼────────────┼────────────┼──────────┼────────────┼────────────┼──────────┤\n",
            "│  2 │ std     │       257.354 │   0.486592 │   0.836071 │  14.5265 │   1.10274  │   0.806057 │  49.6934 │\n",
            "├────┼─────────┼───────────────┼────────────┼────────────┼──────────┼────────────┼────────────┼──────────┤\n",
            "│  3 │ min     │         1     │   0        │   1        │   0.42   │   0        │   0        │   0      │\n",
            "├────┼─────────┼───────────────┼────────────┼────────────┼──────────┼────────────┼────────────┼──────────┤\n",
            "│  4 │ 25%     │       223.5   │   0        │   2        │  20.125  │   0        │   0        │   7.9104 │\n",
            "├────┼─────────┼───────────────┼────────────┼────────────┼──────────┼────────────┼────────────┼──────────┤\n",
            "│  5 │ 50%     │       446     │   0        │   3        │  28      │   0        │   0        │  14.4542 │\n",
            "├────┼─────────┼───────────────┼────────────┼────────────┼──────────┼────────────┼────────────┼──────────┤\n",
            "│  6 │ 75%     │       668.5   │   1        │   3        │  38      │   1        │   0        │  31      │\n",
            "├────┼─────────┼───────────────┼────────────┼────────────┼──────────┼────────────┼────────────┼──────────┤\n",
            "│  7 │ max     │       891     │   1        │   3        │  80      │   8        │   6        │ 512.329  │\n",
            "╘════╧═════════╧═══════════════╧════════════╧════════════╧══════════╧════════════╧════════════╧══════════╛\n",
            "\n",
            "🚨 MISSING VALUES PER COLUMN:\n",
            "\n",
            "╒════╤═══════════╤══════════════════╕\n",
            "│    │ Column    │   Missing Values │\n",
            "╞════╪═══════════╪══════════════════╡\n",
            "│  5 │ Age       │              177 │\n",
            "├────┼───────────┼──────────────────┤\n",
            "│ 10 │ Cabin     │              687 │\n",
            "├────┼───────────┼──────────────────┤\n",
            "│ 11 │ Embarked  │                2 │\n",
            "├────┼───────────┼──────────────────┤\n",
            "│ 12 │ Age Group │              177 │\n",
            "╘════╧═══════════╧══════════════════╛\n"
          ]
        }
      ]
    },
    {
      "cell_type": "markdown",
      "source": [
        "## Question 3: Determine the Survival Rate"
      ],
      "metadata": {
        "id": "EoZnSdHpFPot"
      }
    },
    {
      "cell_type": "code",
      "source": [
        "# Compute the average survival rate\n",
        "mean_survival_rate = df[\"Survived\"].mean()\n",
        "\n",
        "# Display the formatted result\n",
        "print(\"\\n📊 SURVIVAL RATE ANALYSIS\\n\" + \"─\" * 30)\n",
        "print(f\"✅ Mean Survival Rate: {mean_survival_rate:.2%}\")  # Display as a percentage\n",
        "print(\"─\" * 30)\n"
      ],
      "metadata": {
        "colab": {
          "base_uri": "https://localhost:8080/"
        },
        "id": "q-fUcdRBFRM8",
        "outputId": "7131d865-aa48-402c-b963-f1deff43b51d"
      },
      "execution_count": 8,
      "outputs": [
        {
          "output_type": "stream",
          "name": "stdout",
          "text": [
            "\n",
            "📊 SURVIVAL RATE ANALYSIS\n",
            "──────────────────────────────\n",
            "✅ Mean Survival Rate: 38.38%\n",
            "──────────────────────────────\n"
          ]
        }
      ]
    },
    {
      "cell_type": "markdown",
      "source": [
        "## Question 4: Determine the Average age of Survivors\n",
        "\n",
        "\n"
      ],
      "metadata": {
        "id": "M0zDwb7YFSWa"
      }
    },
    {
      "cell_type": "code",
      "source": [
        "import pandas as pd\n",
        "import matplotlib.pyplot as plt\n",
        "import seaborn as sns\n",
        "\n",
        "# Set Seaborn style for a modern look\n",
        "sns.set_style(\"whitegrid\")\n",
        "plt.rcParams[\"axes.edgecolor\"] = \"black\"  # Add black borders for clarity\n",
        "\n",
        "# Define age group bins and labels\n",
        "bins = [0, 10, 20, 30, 40, 50, 60, 70, 80]\n",
        "labels = [\"0-10\", \"11-20\", \"21-30\", \"31-40\", \"41-50\", \"51-60\", \"61-70\", \"71-80\"]\n",
        "\n",
        "# Assign passengers to age groups\n",
        "df[\"Age Group\"] = pd.cut(df[\"Age\"], bins=bins, labels=labels)\n",
        "\n",
        "# Count survivors and non-survivors within each age group\n",
        "age_survival_counts = df.groupby(\"Age Group\")[\"Survived\"].value_counts().unstack()\n",
        "\n",
        "# Create a stylish stacked bar plot\n",
        "fig, ax = plt.subplots(figsize=(9, 6))\n",
        "age_survival_counts.plot(kind=\"bar\", stacked=True, ax=ax, color=[\"#FF6F61\", \"#2E86C1\"])\n",
        "\n",
        "# Customize the plot aesthetics\n",
        "ax.set_xlabel(\"Age Group\", fontsize=12, fontweight=\"bold\")\n",
        "ax.set_ylabel(\"Passenger Count\", fontsize=12, fontweight=\"bold\")\n",
        "ax.set_title(\"📊 Survival Distribution by Age Group\", fontsize=14, fontweight=\"bold\", pad=15)\n",
        "ax.legend([\"Did Not Survive\", \"Survived\"], title=\"Legend\", loc=\"upper right\", fontsize=11)\n",
        "ax.yaxis.grid(True, linestyle=\"--\", alpha=0.6)  # Add subtle dashed grid lines\n",
        "\n",
        "# Rotate x-axis labels for better readability\n",
        "plt.xticks(rotation=45, ha=\"right\", fontsize=10)\n",
        "plt.yticks(fontsize=10)\n",
        "\n",
        "# Add a background color for a cleaner look\n",
        "fig.patch.set_facecolor(\"#F7F9F9\")  # Light grayish background\n",
        "ax.set_facecolor(\"#FAFAFA\")  # Soft white inside plot area\n",
        "\n",
        "# Display the enhanced plot\n",
        "plt.show()\n"
      ],
      "metadata": {
        "colab": {
          "base_uri": "https://localhost:8080/",
          "height": 695
        },
        "id": "SOxOf0plFTmF",
        "outputId": "1075e1ab-7bbd-4e27-fea4-a96c0eea9d08"
      },
      "execution_count": 10,
      "outputs": [
        {
          "output_type": "stream",
          "name": "stderr",
          "text": [
            "<ipython-input-10-257daba69d4c>:17: FutureWarning: The default of observed=False is deprecated and will be changed to True in a future version of pandas. Pass observed=False to retain current behavior or observed=True to adopt the future default and silence this warning.\n",
            "  age_survival_counts = df.groupby(\"Age Group\")[\"Survived\"].value_counts().unstack()\n",
            "/usr/local/lib/python3.11/dist-packages/IPython/core/pylabtools.py:151: UserWarning: Glyph 128202 (\\N{BAR CHART}) missing from font(s) DejaVu Sans.\n",
            "  fig.canvas.print_figure(bytes_io, **kw)\n"
          ]
        },
        {
          "output_type": "display_data",
          "data": {
            "text/plain": [
              "<Figure size 900x600 with 1 Axes>"
            ],
            "image/png": "[encoded data removed]"
          },
          "metadata": {}
        }
      ]
    }
  ]
}