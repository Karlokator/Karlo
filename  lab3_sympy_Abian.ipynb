{
  "nbformat": 4,
  "nbformat_minor": 0,
  "metadata": {
    "colab": {
      "provenance": [],
      "include_colab_link": true
    },
    "kernelspec": {
      "name": "python3",
      "display_name": "Python 3"
    },
    "language_info": {
      "name": "python"
    }
  },
  "cells": [
    {
      "cell_type": "markdown",
      "metadata": {
        "id": "view-in-github",
        "colab_type": "text"
      },
      "source": [
        "<a href=\"https://colab.research.google.com/github/Karlokator/Karlo/blob/main/%20lab3_sympy_Abian.ipynb\" target=\"_parent\"><img src=\"https://colab.research.google.com/assets/colab-badge.svg\" alt=\"Open In Colab\"/></a>"
      ]
    },
    {
      "cell_type": "markdown",
      "source": [
        "## Laboratory Activity #3: Introduction to SymPy\n",
        "\n",
        "###Objectives:\n",
        "- Apply basic symbolic calculations using SymPy"
      ],
      "metadata": {
        "id": "ry6k4qR8H7Bq"
      }
    },
    {
      "cell_type": "markdown",
      "source": [
        "#### Task # 1: Include all necessary sympy modules\n",
        "\n",
        "\n"
      ],
      "metadata": {
        "id": "G_Ua0LKbIPfK"
      }
    },
    {
      "cell_type": "code",
      "execution_count": 5,
      "metadata": {
        "id": "DPFz-qLYHiFJ"
      },
      "outputs": [],
      "source": [
        "from sympy import symbols, sqrt, simplify, expand, Rational, Eq, init_printing\n",
        "\n",
        "# Enable pretty printing\n",
        "init_printing()"
      ]
    },
    {
      "cell_type": "markdown",
      "source": [
        "#### Task # 2: Basic calculation\n",
        "Solve for the following:\n",
        "\n",
        "- $\\frac{5}{3} + \\frac{\\sqrt{10}}{2}$\n",
        "- $\\sqrt{50} \\times \\sqrt{\\frac{5}{9}}$"
      ],
      "metadata": {
        "id": "3i4pd__LIl1X"
      }
    },
    {
      "cell_type": "code",
      "source": [
        "expr1 = Rational(5, 3) + sqrt(10)/2\n",
        "print(\"Task #2 - Expression 1 Result:\")\n",
        "print(expr1)"
      ],
      "metadata": {
        "id": "Nk9U7XU8RhEH",
        "colab": {
          "base_uri": "https://localhost:8080/"
        },
        "outputId": "58113f6f-eda4-4a4a-c5b4-cd4d18893b2e"
      },
      "execution_count": 6,
      "outputs": [
        {
          "output_type": "stream",
          "name": "stdout",
          "text": [
            "Task #2 - Expression 1 Result:\n",
            "sqrt(10)/2 + 5/3\n"
          ]
        }
      ]
    },
    {
      "cell_type": "code",
      "source": [
        "expr2 = sqrt(50) * sqrt(Rational(5, 9))\n",
        "print(\"\\nTask #2 - Expression 2 Result:\")\n",
        "print(expr2)"
      ],
      "metadata": {
        "id": "6baME6J6Rgru",
        "colab": {
          "base_uri": "https://localhost:8080/"
        },
        "outputId": "4532e97d-ac0c-479c-e4cd-0d08c7ab6b57"
      },
      "execution_count": 7,
      "outputs": [
        {
          "output_type": "stream",
          "name": "stdout",
          "text": [
            "\n",
            "Task #2 - Expression 2 Result:\n",
            "5*sqrt(10)/3\n"
          ]
        }
      ]
    },
    {
      "cell_type": "markdown",
      "source": [
        "#### Task # 3: Symbols\n",
        "Create the equation for the following using `Symbols`:\n",
        "- $2x+3y=12$\n",
        "- $x−y=4$"
      ],
      "metadata": {
        "id": "UH2m4ur7NERn"
      }
    },
    {
      "cell_type": "code",
      "source": [
        "x, y = symbols('x y')\n",
        "eq1 = Eq(2*x + 3*y, 12)\n",
        "print(\"\\nTask #3 - Equation 1:\")\n",
        "print(eq1)"
      ],
      "metadata": {
        "id": "4RUw45azRejM",
        "colab": {
          "base_uri": "https://localhost:8080/"
        },
        "outputId": "ffd76c4f-6d70-42b0-a1d4-7d4fa84217a7"
      },
      "execution_count": 8,
      "outputs": [
        {
          "output_type": "stream",
          "name": "stdout",
          "text": [
            "\n",
            "Task #3 - Equation 1:\n",
            "Eq(2*x + 3*y, 12)\n"
          ]
        }
      ]
    },
    {
      "cell_type": "code",
      "source": [
        "x, y = symbols('x y')\n",
        "eq2 = Eq(x - y, 4)\n",
        "print(\"Task #3 - Equation 2:\")\n",
        "print(eq2)\n"
      ],
      "metadata": {
        "id": "nKlN5AeURwI6",
        "colab": {
          "base_uri": "https://localhost:8080/"
        },
        "outputId": "e9cf524f-d0d4-4bc0-849d-db3adeb9733d"
      },
      "execution_count": 9,
      "outputs": [
        {
          "output_type": "stream",
          "name": "stdout",
          "text": [
            "Task #3 - Equation 2:\n",
            "Eq(x - y, 4)\n"
          ]
        }
      ]
    },
    {
      "cell_type": "markdown",
      "source": [
        "#### Task # 3: Simplification\n",
        "Simplify the following equations using the `simplify` method\n",
        "\n",
        "- $\\frac{x^2 + 2x + 1}{x + 1}$\n",
        "\n",
        "- $\\frac{1 - \\frac{1}{1 + \\frac{1}{x}}}{1 + \\frac{1}{x}}\n",
        "$"
      ],
      "metadata": {
        "id": "IS8vTb7FPDbQ"
      }
    },
    {
      "cell_type": "code",
      "source": [
        "simp1 = simplify((x**2 + 2*x + 1)/(x + 1))\n",
        "print(\"\\nTask #3 - Simplification 1:\")\n",
        "print(simp1)"
      ],
      "metadata": {
        "id": "38CFQlfxR0TV",
        "colab": {
          "base_uri": "https://localhost:8080/"
        },
        "outputId": "4eff472b-9ea3-4bb7-ecdc-b419cd53a420"
      },
      "execution_count": 10,
      "outputs": [
        {
          "output_type": "stream",
          "name": "stdout",
          "text": [
            "\n",
            "Task #3 - Simplification 1:\n",
            "x + 1\n"
          ]
        }
      ]
    },
    {
      "cell_type": "code",
      "source": [
        "simp2 = simplify((1 - 1/(1 + 1/x)) / (1 + 1/x))\n",
        "print(\"Task #3 - Simplification 2:\")\n",
        "print(simp2)"
      ],
      "metadata": {
        "id": "fSi0XQcWR2uo",
        "colab": {
          "base_uri": "https://localhost:8080/"
        },
        "outputId": "1ae12e9e-646c-4910-82a2-3799ee715627"
      },
      "execution_count": 11,
      "outputs": [
        {
          "output_type": "stream",
          "name": "stdout",
          "text": [
            "Task #3 - Simplification 2:\n",
            "x/(x + 1)**2\n"
          ]
        }
      ]
    },
    {
      "cell_type": "markdown",
      "source": [
        "### Task # 4: Expansion\n",
        "Expand the following expressions using the `expand` method\n",
        "- $(2x + 2)^2$\n",
        "- $(2x + y)(x - 2y)$\n"
      ],
      "metadata": {
        "id": "oXI_LJ-hRR_n"
      }
    },
    {
      "cell_type": "code",
      "source": [
        "exp1 = expand((2*x + 2)**2)\n",
        "print(\"\\nTask #4 - Expansion 1:\")\n",
        "print(exp1)"
      ],
      "metadata": {
        "id": "OwjWp39uS0Jb",
        "colab": {
          "base_uri": "https://localhost:8080/"
        },
        "outputId": "2cc87855-157c-4ac4-c73e-1e860d4ad23c"
      },
      "execution_count": 12,
      "outputs": [
        {
          "output_type": "stream",
          "name": "stdout",
          "text": [
            "\n",
            "Task #4 - Expansion 1:\n",
            "4*x**2 + 8*x + 4\n"
          ]
        }
      ]
    },
    {
      "cell_type": "code",
      "source": [
        "exp2 = expand((2*x + y)*(x - 2*y))\n",
        "print(\"Task #4 - Expansion 2:\")\n",
        "print(exp2)"
      ],
      "metadata": {
        "id": "g-QEmoMCS6TH",
        "colab": {
          "base_uri": "https://localhost:8080/"
        },
        "outputId": "e4df9653-ea0d-4665-8134-659131ef1cd6"
      },
      "execution_count": 13,
      "outputs": [
        {
          "output_type": "stream",
          "name": "stdout",
          "text": [
            "Task #4 - Expansion 2:\n",
            "2*x**2 - 3*x*y - 2*y**2\n"
          ]
        }
      ]
    }
  ]
}